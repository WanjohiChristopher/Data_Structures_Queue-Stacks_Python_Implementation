{
  "nbformat": 4,
  "nbformat_minor": 0,
  "metadata": {
    "colab": {
      "name": "Data Structures Queue,Stacks Python Implementation.ipynb",
      "provenance": [],
      "authorship_tag": "ABX9TyNRmGCAZQsPboRbmBLY/I0x",
      "include_colab_link": true
    },
    "kernelspec": {
      "name": "python3",
      "display_name": "Python 3"
    },
    "language_info": {
      "name": "python"
    }
  },
  "cells": [
    {
      "cell_type": "markdown",
      "metadata": {
        "id": "view-in-github",
        "colab_type": "text"
      },
      "source": [
        "<a href=\"https://colab.research.google.com/github/WanjohiChristopher/Data_Structures_Queue-Stacks_Python_Implementation/blob/main/Data_Structures_Queue%2CStacks_Python_Implementation.ipynb\" target=\"_parent\"><img src=\"https://colab.research.google.com/assets/colab-badge.svg\" alt=\"Open In Colab\"/></a>"
      ]
    },
    {
      "cell_type": "markdown",
      "metadata": {
        "id": "pKW87k-gzZ-G"
      },
      "source": [
        "\n",
        "Welcome to Data Structures\n",
        "# Stack Data Structure. LIFO\n"
      ]
    },
    {
      "cell_type": "code",
      "metadata": {
        "id": "5LkGSzmdzd9p"
      },
      "source": [
        ""
      ],
      "execution_count": null,
      "outputs": []
    }
  ]
}