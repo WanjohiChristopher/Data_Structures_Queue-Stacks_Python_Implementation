{
  "nbformat": 4,
  "nbformat_minor": 0,
  "metadata": {
    "colab": {
      "name": "Data Structures Queue,Stacks Python Implementation.ipynb",
      "provenance": [],
      "authorship_tag": "ABX9TyNTTjuxkWaI1cGLvb6gFaDK",
      "include_colab_link": true
    },
    "kernelspec": {
      "name": "python3",
      "display_name": "Python 3"
    },
    "language_info": {
      "name": "python"
    }
  },
  "cells": [
    {
      "cell_type": "markdown",
      "metadata": {
        "id": "view-in-github",
        "colab_type": "text"
      },
      "source": [
        "<a href=\"https://colab.research.google.com/github/WanjohiChristopher/Data_Structures_Queue-Stacks_Python_Implementation/blob/main/Data_Structures_Queue%2CStacks_Python_Implementation.ipynb\" target=\"_parent\"><img src=\"https://colab.research.google.com/assets/colab-badge.svg\" alt=\"Open In Colab\"/></a>"
      ]
    },
    {
      "cell_type": "markdown",
      "metadata": {
        "id": "pKW87k-gzZ-G"
      },
      "source": [
        "\n",
        "Welcome to Data Structures\n",
        "# Stack Data Structure. LIFO\n",
        "\n",
        "List of elements in which an item maybe inserted or deleted only at one end called top of stack. (LIFO).In this we use operations PUSH(insert) or POP(removing) or PEEK select top element of stack.\n",
        "\n",
        "## Applications of Stack\n",
        "       1. Backtracking\n",
        "    Backtracking is a recursive algorithm mechanism that is used to solve optimization problems.\n",
        "\n",
        "    To solve the optimization problem with backtracking, you have multiple solutions; it does not matter if it is correct. While finding all the possible solutions in backtracking, you store the previously calculated problems in the stack and use that solution to resolve the following issues.\n",
        "\n",
        "    The N-queen problem is an example of backtracking, a recursive algorithm where the stack is used to solve this problem.\n",
        "\n",
        "       2. Function Call\n",
        "    Whenever you call one function from another function in programming, the reference of calling function stores in the stack. When the function call is terminated, the program control moves back to the function call with the help of references stored in the stack.\n",
        "    function-call-using-stack.\n",
        "\n",
        "       3. Parentheses Checking\n",
        "    Stack in data structures is used to check if the parentheses like ( ), { } are valid or not in programing while matching opening and closing brackets are balanced or not.\n",
        "\n",
        "    So it stores all these parentheses in the stack and controls the flow of the program.\n",
        "\n",
        "    For e.g ((a + b) * (c + d)) is valid but {{a+b})) *(b+d}] is not valid.\n",
        "\n",
        "       4. String Reversal\n",
        "    Each character of a string gets stored in the stack.\n",
        "\n",
        "    The string's first character is held at the bottom of the stack, and the last character of the string is held at the top of the stack, resulting in a reversed string after performing the pop operation.\n",
        "\n",
        "      5. Syntax Parsing\n",
        "    Since many programming languages are context-free languages, the stack is used for syntax parsing by many compilers.\n",
        "\n",
        "      6. Memory Management\n",
        "    Memory management is an essential feature of the operating system, so the stack is heavily used to manage memory.\n",
        "\n"
      ]
    },
    {
      "cell_type": "code",
      "metadata": {
        "colab": {
          "base_uri": "https://localhost:8080/"
        },
        "id": "5LkGSzmdzd9p",
        "outputId": "b0246983-09aa-42bb-aa51-860134c69ad3"
      },
      "source": [
        "class Stack:\n",
        "    def __init__(self):\n",
        "        self.items = []\n",
        "\n",
        "    def push(self, item):\n",
        "        self.items.append(item)             \n",
        "\n",
        "    def pop(self):\n",
        "        return self.items.pop()\n",
        "    \n",
        "    def is_empty(self):\n",
        "        return self.items == []\n",
        "    \n",
        "    def peek(self):\n",
        "        if not self.is_empty():\n",
        "            return self.items[-1]\n",
        "        \n",
        "    def get_stack(self):\n",
        "        return self.items\n",
        "# Creating objects of a class Stack\n",
        "myStack = Stack()\n",
        "myStack.push(\"A\")\n",
        "myStack.push(\"B\")\n",
        "myStack.push(\"C\")\n",
        "myStack.push(\"D\")\n",
        "print(myStack.peek())\n"
      ],
      "execution_count": 1,
      "outputs": [
        {
          "output_type": "stream",
          "name": "stdout",
          "text": [
            "D\n"
          ]
        }
      ]
    },
    {
      "cell_type": "markdown",
      "metadata": {
        "id": "UrGvAHEJ3h6k"
      },
      "source": [
        "# Queue Implementation\n",
        "# Queue can be implemented in form of:\n",
        "    1.a list, \n",
        "    2.collection.deque module \n",
        "    3.queue.Queue"
      ]
    },
    {
      "cell_type": "markdown",
      "metadata": {
        "id": "AwXR3R_g4Ag2"
      },
      "source": [
        "#### list"
      ]
    },
    {
      "cell_type": "code",
      "metadata": {
        "colab": {
          "base_uri": "https://localhost:8080/"
        },
        "id": "ovszf3bF24af",
        "outputId": "58833659-b17b-474f-8acf-cc9e10c5ab46"
      },
      "source": [
        "q=[]\n",
        "q.append(7)\n",
        "q.append(49)\n",
        "q.append(343)\n",
        "q.append(2401)\n",
        "q.append(16807)\n",
        "print(\"Initial Queue has:\",q)\n",
        "print(q.pop(0))\n",
        "print(q.pop(0))\n",
        "print(q.pop(0))\n",
        "print(q.pop(0))\n",
        "print(\"After Removing elements:\",q)"
      ],
      "execution_count": 2,
      "outputs": [
        {
          "output_type": "stream",
          "name": "stdout",
          "text": [
            "Initial Queue is: [7, 49, 343, 2401, 16807]\n",
            "7\n",
            "49\n",
            "343\n",
            "2401\n",
            "After Removing elements: [16807]\n"
          ]
        }
      ]
    },
    {
      "cell_type": "markdown",
      "metadata": {
        "id": "eUsoSN8i4_Xg"
      },
      "source": [
        "### Queue module"
      ]
    },
    {
      "cell_type": "code",
      "metadata": {
        "colab": {
          "base_uri": "https://localhost:8080/"
        },
        "id": "iBVXj1KK4v9Y",
        "outputId": "3fffa59c-2a5a-46cf-c56b-dbfe4cb3ee9a"
      },
      "source": [
        "\n",
        "from queue import Queue\n",
        "q=Queue(maxsize=6)\n",
        "print(\"Initial Size Before Insertion:\",q.qsize())\n",
        "q.put('A')\n",
        "q.put('AA')\n",
        "q.put('AAA')\n",
        "q.put('AAAA')\n",
        "q.put('AAAAA')\n",
        "q.put('AAAAAA')\n",
        "print(\"After Insertion:\",q.qsize())\n",
        "print(\"Queue is Full or Not:\",q.full())\n",
        "print(\"Size of Queue:\",q.qsize())\n",
        "print(\"We are removing elements:\")\n",
        "print(q.get())\n",
        "print(q.get())\n",
        "print(q.get())\n",
        "print(\"Empty or Not??\",q.empty())\n",
        "print(q.get())\n",
        "print(q.get())\n",
        "print(q.get())\n",
        "print(\"Empty or Not??\",q.empty())\n",
        "print(\"Size of Queue:\",q.qsize())"
      ],
      "execution_count": 3,
      "outputs": [
        {
          "output_type": "stream",
          "name": "stdout",
          "text": [
            "Initial Size Before Insertion: 0\n",
            "After Insertion: 6\n",
            "Queue is Full or Not: True\n",
            "Size of Queue: 6\n",
            "We are removing elements:\n",
            "A\n",
            "AA\n",
            "AAA\n",
            "Empty or Not?? False\n",
            "AAAA\n",
            "AAAAA\n",
            "AAAAAA\n",
            "Empty or Not?? True\n",
            "Size of Queue: 0\n"
          ]
        }
      ]
    },
    {
      "cell_type": "markdown",
      "metadata": {
        "id": "goPV-0wD528x"
      },
      "source": [
        "## Remember we use queues in Scheduling jobs in a computer and also are used in printers\n",
        "#### Implementation in collections module"
      ]
    },
    {
      "cell_type": "code",
      "metadata": {
        "colab": {
          "base_uri": "https://localhost:8080/"
        },
        "id": "QypR7xRb5vFW",
        "outputId": "ef0774ff-c1fc-4919-bda8-2e452abea6b1"
      },
      "source": [
        "\n",
        "from collections import deque\n",
        "q=deque()\n",
        "q.append(10)\n",
        "q.append(100)\n",
        "q.append(1000)\n",
        "q.append(10000)\n",
        "print(\"Initial Queue has:\",q)\n",
        "print(q.popleft())\n",
        "print(q.popleft())\n",
        "print(\"After Removing elements:\",q)"
      ],
      "execution_count": 4,
      "outputs": [
        {
          "output_type": "stream",
          "name": "stdout",
          "text": [
            "Initial Queue has: deque([10, 100, 1000, 10000])\n",
            "10\n",
            "100\n",
            "After Removing elements: deque([1000, 10000])\n"
          ]
        }
      ]
    },
    {
      "cell_type": "code",
      "metadata": {
        "id": "yW9FrVJC6SQB"
      },
      "source": [
        ""
      ],
      "execution_count": null,
      "outputs": []
    }
  ]
}