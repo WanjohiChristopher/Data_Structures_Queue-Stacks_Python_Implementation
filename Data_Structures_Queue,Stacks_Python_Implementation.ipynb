{
  "nbformat": 4,
  "nbformat_minor": 0,
  "metadata": {
    "colab": {
      "name": "Data Structures Queue,Stacks Python Implementation.ipynb",
      "provenance": [],
      "authorship_tag": "ABX9TyNYFVVy4MTbClPu5zqoacwy",
      "include_colab_link": true
    },
    "kernelspec": {
      "name": "python3",
      "display_name": "Python 3"
    },
    "language_info": {
      "name": "python"
    }
  },
  "cells": [
    {
      "cell_type": "markdown",
      "metadata": {
        "id": "view-in-github",
        "colab_type": "text"
      },
      "source": [
        "<a href=\"https://colab.research.google.com/github/WanjohiChristopher/Data_Structures_Queue-Stacks_Python_Implementation/blob/main/Data_Structures_Queue%2CStacks_Python_Implementation.ipynb\" target=\"_parent\"><img src=\"https://colab.research.google.com/assets/colab-badge.svg\" alt=\"Open In Colab\"/></a>"
      ]
    },
    {
      "cell_type": "markdown",
      "metadata": {
        "id": "pKW87k-gzZ-G"
      },
      "source": [
        "\n",
        "Welcome to Data Structures\n",
        "# Stack Data Structure. LIFO\n",
        "\n",
        "List of elements in which an item maybe inserted or deleted only at one end called top of stack. (LIFO).In this we use operations PUSH(insert) or POP(removing) or PEEK select top element of stack."
      ]
    },
    {
      "cell_type": "code",
      "metadata": {
        "colab": {
          "base_uri": "https://localhost:8080/"
        },
        "id": "5LkGSzmdzd9p",
        "outputId": "b0246983-09aa-42bb-aa51-860134c69ad3"
      },
      "source": [
        "class Stack:\n",
        "    def __init__(self):\n",
        "        self.items = []\n",
        "\n",
        "    def push(self, item):\n",
        "        self.items.append(item)             \n",
        "\n",
        "    def pop(self):\n",
        "        return self.items.pop()\n",
        "    \n",
        "    def is_empty(self):\n",
        "        return self.items == []\n",
        "    \n",
        "    def peek(self):\n",
        "        if not self.is_empty():\n",
        "            return self.items[-1]\n",
        "        \n",
        "    def get_stack(self):\n",
        "        return self.items\n",
        "# Creating objects of a class Stack\n",
        "myStack = Stack()\n",
        "myStack.push(\"A\")\n",
        "myStack.push(\"B\")\n",
        "myStack.push(\"C\")\n",
        "myStack.push(\"D\")\n",
        "print(myStack.peek())\n"
      ],
      "execution_count": 1,
      "outputs": [
        {
          "output_type": "stream",
          "name": "stdout",
          "text": [
            "D\n"
          ]
        }
      ]
    },
    {
      "cell_type": "code",
      "metadata": {
        "id": "ovszf3bF24af"
      },
      "source": [
        ""
      ],
      "execution_count": null,
      "outputs": []
    }
  ]
}